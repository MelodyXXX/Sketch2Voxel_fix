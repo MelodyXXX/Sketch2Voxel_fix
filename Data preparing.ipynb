{
 "cells": [
  {
   "cell_type": "code",
   "execution_count": 1,
   "metadata": {},
   "outputs": [
    {
     "name": "stderr",
     "output_type": "stream",
     "text": [
      "UsageError: Line magic function `%1.` not found.\n"
     ]
    }
   ],
   "source": [
    "# 1. Set up rendering folder\n",
    "\n",
    "import os\n",
    "import shutil \n",
    "\n",
    "root_folder = \"data/ShapeNetRendering\"\n",
    "target_folder = \"data/Rendering\"\n",
    "shutil.rmtree(target_folder)\n",
    "\n",
    "for label in os.listdir(root_folder):\n",
    "    \n",
    "    for model_id in os.listdir(root_folder+'/'+label):\n",
    "        from_folder = root_folder+'/'+label+'/'+model_id\n",
    "        to_folder = target_folder+'/'+label+'-'+model_id\n",
    "        if os.path.exists(to_folder):\n",
    "            shutil.rmtree(to_folder)\n",
    "        os.makedirs(to_folder)\n",
    "        for file in os.listdir(from_folder+'/rendering'):\n",
    "            shutil.copy(from_folder+'/rendering/'+file,to_folder+'/'+file)"
   ]
  },
  {
   "cell_type": "code",
   "execution_count": 2,
   "metadata": {},
   "outputs": [],
   "source": [
    "# 2. Set up voxel folder\n",
    "\n",
    "import os\n",
    "import shutil\n",
    "import scipy.io as sio\n",
    "import scipy\n",
    "import numpy as np\n",
    "from lib.binvox_rw import read_as_3d_array\n",
    "\n",
    "root_folder = \"data/ShapeNetVox32\"\n",
    "target_folder = \"data/voxel\"\n",
    "shutil.rmtree(target_folder)\n",
    "\n",
    "for label in os.listdir(root_folder):\n",
    "    for model_id in os.listdir(root_folder+'/'+label):\n",
    "        from_folder = root_folder+'/'+label+'/'+model_id\n",
    "        to_folder = target_folder+'/'+label+'-'+model_id\n",
    "        if os.path.exists(to_folder):\n",
    "            shutil.rmtree(to_folder)\n",
    "        os.makedirs(to_folder)\n",
    "        for file in os.listdir(from_folder):\n",
    "            with open(from_folder+'/'+file,'rb') as voxfile:\n",
    "                vox = np.int32(read_as_3d_array(voxfile).data)\n",
    "                np.save(to_folder+'/model.npy',vox)"
   ]
  }
 ],
 "metadata": {
  "kernelspec": {
   "display_name": "Python 3",
   "language": "python",
   "name": "python3"
  },
  "language_info": {
   "codemirror_mode": {
    "name": "ipython",
    "version": 3
   },
   "file_extension": ".py",
   "mimetype": "text/x-python",
   "name": "python",
   "nbconvert_exporter": "python",
   "pygments_lexer": "ipython3",
   "version": "3.6.5"
  }
 },
 "nbformat": 4,
 "nbformat_minor": 2
}
